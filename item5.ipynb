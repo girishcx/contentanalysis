{
 "cells": [
  {
   "cell_type": "code",
   "execution_count": 25,
   "metadata": {},
   "outputs": [
    {
     "name": "stdout",
     "output_type": "stream",
     "text": [
      "Requirement already satisfied: transformers in /usr/local/lib/python3.10/site-packages (4.24.0)\n",
      "Requirement already satisfied: packaging>=20.0 in /Users/girish/Library/Python/3.10/lib/python/site-packages (from transformers) (21.3)\n",
      "Requirement already satisfied: regex!=2019.12.17 in /usr/local/lib/python3.10/site-packages (from transformers) (2022.10.31)\n",
      "Requirement already satisfied: huggingface-hub<1.0,>=0.10.0 in /usr/local/lib/python3.10/site-packages (from transformers) (0.10.1)\n",
      "Requirement already satisfied: tqdm>=4.27 in /usr/local/lib/python3.10/site-packages (from transformers) (4.64.1)\n",
      "Requirement already satisfied: pyyaml>=5.1 in /usr/local/lib/python3.10/site-packages (from transformers) (6.0)\n",
      "Requirement already satisfied: requests in /usr/local/lib/python3.10/site-packages (from transformers) (2.28.1)\n",
      "Requirement already satisfied: numpy>=1.17 in /usr/local/lib/python3.10/site-packages (from transformers) (1.23.4)\n",
      "Requirement already satisfied: filelock in /usr/local/lib/python3.10/site-packages (from transformers) (3.8.0)\n",
      "Requirement already satisfied: tokenizers!=0.11.3,<0.14,>=0.11.1 in /usr/local/lib/python3.10/site-packages (from transformers) (0.13.2)\n",
      "Requirement already satisfied: typing-extensions>=3.7.4.3 in /usr/local/lib/python3.10/site-packages (from huggingface-hub<1.0,>=0.10.0->transformers) (4.4.0)\n",
      "Requirement already satisfied: pyparsing!=3.0.5,>=2.0.2 in /Users/girish/Library/Python/3.10/lib/python/site-packages (from packaging>=20.0->transformers) (3.0.9)\n",
      "Requirement already satisfied: certifi>=2017.4.17 in /usr/local/lib/python3.10/site-packages (from requests->transformers) (2022.9.24)\n",
      "Requirement already satisfied: charset-normalizer<3,>=2 in /usr/local/lib/python3.10/site-packages (from requests->transformers) (2.1.1)\n",
      "Requirement already satisfied: urllib3<1.27,>=1.21.1 in /usr/local/lib/python3.10/site-packages (from requests->transformers) (1.26.12)\n",
      "Requirement already satisfied: idna<4,>=2.5 in /usr/local/lib/python3.10/site-packages (from requests->transformers) (3.4)\n"
     ]
    }
   ],
   "source": [
    "!pip install transformers\n"
   ]
  },
  {
   "cell_type": "code",
   "execution_count": 26,
   "metadata": {},
   "outputs": [
    {
     "name": "stdout",
     "output_type": "stream",
     "text": [
      "Requirement already satisfied: tensorboardx in /usr/local/lib/python3.10/site-packages (2.5.1)\n",
      "Requirement already satisfied: numpy in /usr/local/lib/python3.10/site-packages (from tensorboardx) (1.23.4)\n",
      "Requirement already satisfied: protobuf<=3.20.1,>=3.8.0 in /usr/local/lib/python3.10/site-packages (from tensorboardx) (3.19.6)\n"
     ]
    }
   ],
   "source": [
    "!pip install tensorboardx"
   ]
  },
  {
   "cell_type": "code",
   "execution_count": 27,
   "metadata": {},
   "outputs": [
    {
     "name": "stdout",
     "output_type": "stream",
     "text": [
      "Requirement already satisfied: simpletransformers in /usr/local/lib/python3.10/site-packages (0.63.9)\n",
      "Requirement already satisfied: numpy in /usr/local/lib/python3.10/site-packages (from simpletransformers) (1.23.4)\n",
      "Requirement already satisfied: tensorboard in /usr/local/lib/python3.10/site-packages (from simpletransformers) (2.10.1)\n",
      "Requirement already satisfied: datasets in /usr/local/lib/python3.10/site-packages (from simpletransformers) (2.6.1)\n",
      "Requirement already satisfied: sentencepiece in /usr/local/lib/python3.10/site-packages (from simpletransformers) (0.1.97)\n",
      "Requirement already satisfied: transformers>=4.6.0 in /usr/local/lib/python3.10/site-packages (from simpletransformers) (4.24.0)\n",
      "Requirement already satisfied: regex in /usr/local/lib/python3.10/site-packages (from simpletransformers) (2022.10.31)\n",
      "Requirement already satisfied: scipy in /usr/local/lib/python3.10/site-packages (from simpletransformers) (1.9.3)\n",
      "Requirement already satisfied: pandas in /usr/local/lib/python3.10/site-packages (from simpletransformers) (1.5.1)\n",
      "Requirement already satisfied: wandb>=0.10.32 in /usr/local/lib/python3.10/site-packages (from simpletransformers) (0.13.5)\n",
      "Requirement already satisfied: scikit-learn in /usr/local/lib/python3.10/site-packages (from simpletransformers) (1.1.3)\n",
      "Requirement already satisfied: tokenizers in /usr/local/lib/python3.10/site-packages (from simpletransformers) (0.13.2)\n",
      "Requirement already satisfied: requests in /usr/local/lib/python3.10/site-packages (from simpletransformers) (2.28.1)\n",
      "Requirement already satisfied: seqeval in /usr/local/lib/python3.10/site-packages (from simpletransformers) (1.2.2)\n",
      "Requirement already satisfied: streamlit in /usr/local/lib/python3.10/site-packages (from simpletransformers) (1.14.1)\n",
      "Requirement already satisfied: tqdm>=4.47.0 in /usr/local/lib/python3.10/site-packages (from simpletransformers) (4.64.1)\n",
      "Requirement already satisfied: packaging>=20.0 in /Users/girish/Library/Python/3.10/lib/python/site-packages (from transformers>=4.6.0->simpletransformers) (21.3)\n",
      "Requirement already satisfied: huggingface-hub<1.0,>=0.10.0 in /usr/local/lib/python3.10/site-packages (from transformers>=4.6.0->simpletransformers) (0.10.1)\n",
      "Requirement already satisfied: pyyaml>=5.1 in /usr/local/lib/python3.10/site-packages (from transformers>=4.6.0->simpletransformers) (6.0)\n",
      "Requirement already satisfied: filelock in /usr/local/lib/python3.10/site-packages (from transformers>=4.6.0->simpletransformers) (3.8.0)\n",
      "Requirement already satisfied: GitPython>=1.0.0 in /usr/local/lib/python3.10/site-packages (from wandb>=0.10.32->simpletransformers) (3.1.29)\n",
      "Requirement already satisfied: six>=1.13.0 in /Users/girish/Library/Python/3.10/lib/python/site-packages (from wandb>=0.10.32->simpletransformers) (1.16.0)\n",
      "Requirement already satisfied: sentry-sdk>=1.0.0 in /usr/local/lib/python3.10/site-packages (from wandb>=0.10.32->simpletransformers) (1.10.1)\n",
      "Requirement already satisfied: psutil>=5.0.0 in /Users/girish/Library/Python/3.10/lib/python/site-packages (from wandb>=0.10.32->simpletransformers) (5.9.4)\n",
      "Requirement already satisfied: setuptools in /usr/local/lib/python3.10/site-packages (from wandb>=0.10.32->simpletransformers) (63.4.3)\n",
      "Requirement already satisfied: Click!=8.0.0,>=7.0 in /usr/local/lib/python3.10/site-packages (from wandb>=0.10.32->simpletransformers) (8.1.3)\n",
      "Requirement already satisfied: docker-pycreds>=0.4.0 in /usr/local/lib/python3.10/site-packages (from wandb>=0.10.32->simpletransformers) (0.4.0)\n",
      "Requirement already satisfied: setproctitle in /usr/local/lib/python3.10/site-packages (from wandb>=0.10.32->simpletransformers) (1.3.2)\n",
      "Requirement already satisfied: pathtools in /usr/local/lib/python3.10/site-packages (from wandb>=0.10.32->simpletransformers) (0.1.2)\n",
      "Requirement already satisfied: shortuuid>=0.5.0 in /usr/local/lib/python3.10/site-packages (from wandb>=0.10.32->simpletransformers) (1.0.10)\n",
      "Requirement already satisfied: protobuf!=4.0.*,!=4.21.0,<5,>=3.12.0 in /usr/local/lib/python3.10/site-packages (from wandb>=0.10.32->simpletransformers) (3.19.6)\n",
      "Requirement already satisfied: promise<3,>=2.0 in /usr/local/lib/python3.10/site-packages (from wandb>=0.10.32->simpletransformers) (2.3)\n",
      "Requirement already satisfied: charset-normalizer<3,>=2 in /usr/local/lib/python3.10/site-packages (from requests->simpletransformers) (2.1.1)\n",
      "Requirement already satisfied: urllib3<1.27,>=1.21.1 in /usr/local/lib/python3.10/site-packages (from requests->simpletransformers) (1.26.12)\n",
      "Requirement already satisfied: certifi>=2017.4.17 in /usr/local/lib/python3.10/site-packages (from requests->simpletransformers) (2022.9.24)\n",
      "Requirement already satisfied: idna<4,>=2.5 in /usr/local/lib/python3.10/site-packages (from requests->simpletransformers) (3.4)\n",
      "Requirement already satisfied: aiohttp in /usr/local/lib/python3.10/site-packages (from datasets->simpletransformers) (3.8.3)\n",
      "Requirement already satisfied: fsspec[http]>=2021.11.1 in /usr/local/lib/python3.10/site-packages (from datasets->simpletransformers) (2022.11.0)\n",
      "Requirement already satisfied: pyarrow>=6.0.0 in /usr/local/lib/python3.10/site-packages (from datasets->simpletransformers) (10.0.0)\n",
      "Requirement already satisfied: multiprocess in /usr/local/lib/python3.10/site-packages (from datasets->simpletransformers) (0.70.13)\n",
      "Requirement already satisfied: xxhash in /usr/local/lib/python3.10/site-packages (from datasets->simpletransformers) (3.1.0)\n",
      "Requirement already satisfied: responses<0.19 in /usr/local/lib/python3.10/site-packages (from datasets->simpletransformers) (0.18.0)\n",
      "Requirement already satisfied: dill<0.3.6 in /usr/local/lib/python3.10/site-packages (from datasets->simpletransformers) (0.3.5.1)\n",
      "Requirement already satisfied: pytz>=2020.1 in /usr/local/lib/python3.10/site-packages (from pandas->simpletransformers) (2022.6)\n",
      "Requirement already satisfied: python-dateutil>=2.8.1 in /Users/girish/Library/Python/3.10/lib/python/site-packages (from pandas->simpletransformers) (2.8.2)\n",
      "Requirement already satisfied: joblib>=1.0.0 in /usr/local/lib/python3.10/site-packages (from scikit-learn->simpletransformers) (1.2.0)\n",
      "Requirement already satisfied: threadpoolctl>=2.0.0 in /usr/local/lib/python3.10/site-packages (from scikit-learn->simpletransformers) (3.1.0)\n",
      "Requirement already satisfied: rich>=10.11.0 in /usr/local/lib/python3.10/site-packages (from streamlit->simpletransformers) (12.6.0)\n",
      "Requirement already satisfied: tzlocal>=1.1 in /usr/local/lib/python3.10/site-packages (from streamlit->simpletransformers) (4.2)\n",
      "Requirement already satisfied: semver in /usr/local/lib/python3.10/site-packages (from streamlit->simpletransformers) (2.13.0)\n",
      "Requirement already satisfied: pillow>=6.2.0 in /usr/local/lib/python3.10/site-packages (from streamlit->simpletransformers) (9.3.0)\n",
      "Requirement already satisfied: pydeck>=0.1.dev5 in /usr/local/lib/python3.10/site-packages (from streamlit->simpletransformers) (0.8.0)\n",
      "Requirement already satisfied: toml in /usr/local/lib/python3.10/site-packages (from streamlit->simpletransformers) (0.10.2)\n",
      "Requirement already satisfied: validators>=0.2 in /usr/local/lib/python3.10/site-packages (from streamlit->simpletransformers) (0.20.0)\n",
      "Requirement already satisfied: cachetools>=4.0 in /usr/local/lib/python3.10/site-packages (from streamlit->simpletransformers) (5.2.0)\n",
      "Requirement already satisfied: tornado>=5.0 in /Users/girish/Library/Python/3.10/lib/python/site-packages (from streamlit->simpletransformers) (6.2)\n",
      "Requirement already satisfied: altair>=3.2.0 in /usr/local/lib/python3.10/site-packages (from streamlit->simpletransformers) (4.2.0)\n",
      "Requirement already satisfied: pympler>=0.9 in /usr/local/lib/python3.10/site-packages (from streamlit->simpletransformers) (1.0.1)\n",
      "Requirement already satisfied: typing-extensions>=3.10.0.0 in /usr/local/lib/python3.10/site-packages (from streamlit->simpletransformers) (4.4.0)\n",
      "Requirement already satisfied: blinker>=1.0.0 in /usr/local/lib/python3.10/site-packages (from streamlit->simpletransformers) (1.5)\n",
      "Requirement already satisfied: importlib-metadata>=1.4 in /usr/local/lib/python3.10/site-packages (from streamlit->simpletransformers) (5.0.0)\n",
      "Requirement already satisfied: tensorboard-data-server<0.7.0,>=0.6.0 in /usr/local/lib/python3.10/site-packages (from tensorboard->simpletransformers) (0.6.1)\n",
      "Requirement already satisfied: markdown>=2.6.8 in /usr/local/lib/python3.10/site-packages (from tensorboard->simpletransformers) (3.4.1)\n",
      "Requirement already satisfied: werkzeug>=1.0.1 in /usr/local/lib/python3.10/site-packages (from tensorboard->simpletransformers) (2.2.2)\n",
      "Requirement already satisfied: wheel>=0.26 in /usr/local/lib/python3.10/site-packages (from tensorboard->simpletransformers) (0.37.1)\n",
      "Requirement already satisfied: google-auth-oauthlib<0.5,>=0.4.1 in /usr/local/lib/python3.10/site-packages (from tensorboard->simpletransformers) (0.4.6)\n",
      "Requirement already satisfied: tensorboard-plugin-wit>=1.6.0 in /usr/local/lib/python3.10/site-packages (from tensorboard->simpletransformers) (1.8.1)\n",
      "Requirement already satisfied: grpcio>=1.24.3 in /usr/local/lib/python3.10/site-packages (from tensorboard->simpletransformers) (1.50.0)\n",
      "Requirement already satisfied: absl-py>=0.4 in /usr/local/lib/python3.10/site-packages (from tensorboard->simpletransformers) (1.3.0)\n",
      "Requirement already satisfied: google-auth<3,>=1.6.3 in /usr/local/lib/python3.10/site-packages (from tensorboard->simpletransformers) (2.14.1)\n",
      "Requirement already satisfied: jsonschema>=3.0 in /usr/local/lib/python3.10/site-packages (from altair>=3.2.0->streamlit->simpletransformers) (4.17.0)\n",
      "Requirement already satisfied: toolz in /usr/local/lib/python3.10/site-packages (from altair>=3.2.0->streamlit->simpletransformers) (0.12.0)\n",
      "Requirement already satisfied: entrypoints in /Users/girish/Library/Python/3.10/lib/python/site-packages (from altair>=3.2.0->streamlit->simpletransformers) (0.4)\n",
      "Requirement already satisfied: jinja2 in /usr/local/lib/python3.10/site-packages (from altair>=3.2.0->streamlit->simpletransformers) (3.1.2)\n",
      "Requirement already satisfied: multidict<7.0,>=4.5 in /usr/local/lib/python3.10/site-packages (from aiohttp->datasets->simpletransformers) (6.0.2)\n",
      "Requirement already satisfied: async-timeout<5.0,>=4.0.0a3 in /usr/local/lib/python3.10/site-packages (from aiohttp->datasets->simpletransformers) (4.0.2)\n",
      "Requirement already satisfied: frozenlist>=1.1.1 in /usr/local/lib/python3.10/site-packages (from aiohttp->datasets->simpletransformers) (1.3.3)\n",
      "Requirement already satisfied: aiosignal>=1.1.2 in /usr/local/lib/python3.10/site-packages (from aiohttp->datasets->simpletransformers) (1.3.1)\n",
      "Requirement already satisfied: yarl<2.0,>=1.0 in /usr/local/lib/python3.10/site-packages (from aiohttp->datasets->simpletransformers) (1.8.1)\n",
      "Requirement already satisfied: attrs>=17.3.0 in /usr/local/lib/python3.10/site-packages (from aiohttp->datasets->simpletransformers) (22.1.0)\n",
      "Requirement already satisfied: gitdb<5,>=4.0.1 in /usr/local/lib/python3.10/site-packages (from GitPython>=1.0.0->wandb>=0.10.32->simpletransformers) (4.0.9)\n",
      "Requirement already satisfied: pyasn1-modules>=0.2.1 in /usr/local/lib/python3.10/site-packages (from google-auth<3,>=1.6.3->tensorboard->simpletransformers) (0.2.8)\n",
      "Requirement already satisfied: rsa<5,>=3.1.4 in /usr/local/lib/python3.10/site-packages (from google-auth<3,>=1.6.3->tensorboard->simpletransformers) (4.9)\n",
      "Requirement already satisfied: requests-oauthlib>=0.7.0 in /usr/local/lib/python3.10/site-packages (from google-auth-oauthlib<0.5,>=0.4.1->tensorboard->simpletransformers) (1.3.1)\n",
      "Requirement already satisfied: zipp>=0.5 in /usr/local/lib/python3.10/site-packages (from importlib-metadata>=1.4->streamlit->simpletransformers) (3.10.0)\n",
      "Requirement already satisfied: pyparsing!=3.0.5,>=2.0.2 in /Users/girish/Library/Python/3.10/lib/python/site-packages (from packaging>=20.0->transformers>=4.6.0->simpletransformers) (3.0.9)\n",
      "Requirement already satisfied: commonmark<0.10.0,>=0.9.0 in /usr/local/lib/python3.10/site-packages (from rich>=10.11.0->streamlit->simpletransformers) (0.9.1)\n",
      "Requirement already satisfied: pygments<3.0.0,>=2.6.0 in /Users/girish/Library/Python/3.10/lib/python/site-packages (from rich>=10.11.0->streamlit->simpletransformers) (2.13.0)\n",
      "Requirement already satisfied: pytz-deprecation-shim in /usr/local/lib/python3.10/site-packages (from tzlocal>=1.1->streamlit->simpletransformers) (0.1.0.post0)\n",
      "Requirement already satisfied: decorator>=3.4.0 in /Users/girish/Library/Python/3.10/lib/python/site-packages (from validators>=0.2->streamlit->simpletransformers) (5.1.1)\n",
      "Requirement already satisfied: MarkupSafe>=2.1.1 in /usr/local/lib/python3.10/site-packages (from werkzeug>=1.0.1->tensorboard->simpletransformers) (2.1.1)\n",
      "Requirement already satisfied: smmap<6,>=3.0.1 in /usr/local/lib/python3.10/site-packages (from gitdb<5,>=4.0.1->GitPython>=1.0.0->wandb>=0.10.32->simpletransformers) (5.0.0)\n",
      "Requirement already satisfied: pyrsistent!=0.17.0,!=0.17.1,!=0.17.2,>=0.14.0 in /usr/local/lib/python3.10/site-packages (from jsonschema>=3.0->altair>=3.2.0->streamlit->simpletransformers) (0.19.2)\n",
      "Requirement already satisfied: pyasn1<0.5.0,>=0.4.6 in /usr/local/lib/python3.10/site-packages (from pyasn1-modules>=0.2.1->google-auth<3,>=1.6.3->tensorboard->simpletransformers) (0.4.8)\n",
      "Requirement already satisfied: oauthlib>=3.0.0 in /usr/local/lib/python3.10/site-packages (from requests-oauthlib>=0.7.0->google-auth-oauthlib<0.5,>=0.4.1->tensorboard->simpletransformers) (3.2.2)\n",
      "Requirement already satisfied: tzdata in /usr/local/lib/python3.10/site-packages (from pytz-deprecation-shim->tzlocal>=1.1->streamlit->simpletransformers) (2022.6)\n"
     ]
    }
   ],
   "source": [
    "!pip install simpletransformers\n"
   ]
  },
  {
   "cell_type": "code",
   "execution_count": 28,
   "metadata": {},
   "outputs": [
    {
     "name": "stdout",
     "output_type": "stream",
     "text": [
      "Requirement already satisfied: scikit-learn in /usr/local/lib/python3.10/site-packages (1.1.3)\n",
      "Requirement already satisfied: joblib>=1.0.0 in /usr/local/lib/python3.10/site-packages (from scikit-learn) (1.2.0)\n",
      "Requirement already satisfied: scipy>=1.3.2 in /usr/local/lib/python3.10/site-packages (from scikit-learn) (1.9.3)\n",
      "Requirement already satisfied: numpy>=1.17.3 in /usr/local/lib/python3.10/site-packages (from scikit-learn) (1.23.4)\n",
      "Requirement already satisfied: threadpoolctl>=2.0.0 in /usr/local/lib/python3.10/site-packages (from scikit-learn) (3.1.0)\n"
     ]
    }
   ],
   "source": [
    "!pip install scikit-learn"
   ]
  },
  {
   "cell_type": "code",
   "execution_count": 29,
   "metadata": {},
   "outputs": [],
   "source": [
    "import pandas as pd\n",
    "\n",
    "\n",
    "#train_df = pd.read_csv('data/train.csv', header=None)\n",
    "df = pd.read_csv('./data/newsdata.csv', sep='\\t', names=['ID','TITLE', 'URL', 'PUBLISHER', 'CATEGORY', 'STORY', 'HOSTNAME', 'TIMESTAMP'])"
   ]
  },
  {
   "cell_type": "markdown",
   "metadata": {},
   "source": []
  },
  {
   "cell_type": "code",
   "execution_count": 30,
   "metadata": {},
   "outputs": [],
   "source": [
    "df = df[['TITLE','CATEGORY']]\n",
    "#train_df['text'] = train_df.iloc[:, 1] + \" \" + train_df.iloc[:, 2]"
   ]
  },
  {
   "cell_type": "code",
   "execution_count": 31,
   "metadata": {},
   "outputs": [],
   "source": [
    "encode_dict = {}\n",
    "\n",
    "def encode_cat(x):\n",
    "    if x not in encode_dict.keys():\n",
    "        encode_dict[x]=len(encode_dict)\n",
    "    return encode_dict[x]\n",
    "\n",
    "df['ENCODE_CAT'] = df['CATEGORY'].apply(lambda x: encode_cat(x))\n",
    "\n",
    "#train_df = train_df.drop(train_df.columns[[1, 2]], axis=1)"
   ]
  },
  {
   "cell_type": "code",
   "execution_count": 32,
   "metadata": {},
   "outputs": [
    {
     "data": {
      "text/html": [
       "<div>\n",
       "<style scoped>\n",
       "    .dataframe tbody tr th:only-of-type {\n",
       "        vertical-align: middle;\n",
       "    }\n",
       "\n",
       "    .dataframe tbody tr th {\n",
       "        vertical-align: top;\n",
       "    }\n",
       "\n",
       "    .dataframe thead th {\n",
       "        text-align: right;\n",
       "    }\n",
       "</style>\n",
       "<table border=\"1\" class=\"dataframe\">\n",
       "  <thead>\n",
       "    <tr style=\"text-align: right;\">\n",
       "      <th></th>\n",
       "      <th>TITLE</th>\n",
       "      <th>CATEGORY</th>\n",
       "      <th>ENCODE_CAT</th>\n",
       "    </tr>\n",
       "  </thead>\n",
       "  <tbody>\n",
       "    <tr>\n",
       "      <th>0</th>\n",
       "      <td>Fed official says weak data caused by weather,...</td>\n",
       "      <td>b</td>\n",
       "      <td>0</td>\n",
       "    </tr>\n",
       "    <tr>\n",
       "      <th>1</th>\n",
       "      <td>Fed's Charles Plosser sees high bar for change...</td>\n",
       "      <td>b</td>\n",
       "      <td>0</td>\n",
       "    </tr>\n",
       "    <tr>\n",
       "      <th>2</th>\n",
       "      <td>US open: Stocks fall after Fed official hints ...</td>\n",
       "      <td>b</td>\n",
       "      <td>0</td>\n",
       "    </tr>\n",
       "    <tr>\n",
       "      <th>3</th>\n",
       "      <td>Fed risks falling 'behind the curve', Charles ...</td>\n",
       "      <td>b</td>\n",
       "      <td>0</td>\n",
       "    </tr>\n",
       "    <tr>\n",
       "      <th>4</th>\n",
       "      <td>Fed's Plosser: Nasty Weather Has Curbed Job Gr...</td>\n",
       "      <td>b</td>\n",
       "      <td>0</td>\n",
       "    </tr>\n",
       "    <tr>\n",
       "      <th>...</th>\n",
       "      <td>...</td>\n",
       "      <td>...</td>\n",
       "      <td>...</td>\n",
       "    </tr>\n",
       "    <tr>\n",
       "      <th>1094</th>\n",
       "      <td>Titanfall has 34GB of Uncompressed Audio Files...</td>\n",
       "      <td>t</td>\n",
       "      <td>1</td>\n",
       "    </tr>\n",
       "    <tr>\n",
       "      <th>1095</th>\n",
       "      <td>Titanfall Xbox One resolution hits 792p in fin...</td>\n",
       "      <td>t</td>\n",
       "      <td>1</td>\n",
       "    </tr>\n",
       "    <tr>\n",
       "      <th>1096</th>\n",
       "      <td>Titanfall live-action content to be produced b...</td>\n",
       "      <td>t</td>\n",
       "      <td>1</td>\n",
       "    </tr>\n",
       "    <tr>\n",
       "      <th>1097</th>\n",
       "      <td>inFamous: Second Son vs. Titanfall: Launch Eve...</td>\n",
       "      <td>t</td>\n",
       "      <td>1</td>\n",
       "    </tr>\n",
       "    <tr>\n",
       "      <th>1098</th>\n",
       "      <td>Origin May Ban Early Titanfall Players After All</td>\n",
       "      <td>t</td>\n",
       "      <td>1</td>\n",
       "    </tr>\n",
       "  </tbody>\n",
       "</table>\n",
       "<p>1099 rows × 3 columns</p>\n",
       "</div>"
      ],
      "text/plain": [
       "                                                  TITLE CATEGORY  ENCODE_CAT\n",
       "0     Fed official says weak data caused by weather,...        b           0\n",
       "1     Fed's Charles Plosser sees high bar for change...        b           0\n",
       "2     US open: Stocks fall after Fed official hints ...        b           0\n",
       "3     Fed risks falling 'behind the curve', Charles ...        b           0\n",
       "4     Fed's Plosser: Nasty Weather Has Curbed Job Gr...        b           0\n",
       "...                                                 ...      ...         ...\n",
       "1094  Titanfall has 34GB of Uncompressed Audio Files...        t           1\n",
       "1095  Titanfall Xbox One resolution hits 792p in fin...        t           1\n",
       "1096  Titanfall live-action content to be produced b...        t           1\n",
       "1097  inFamous: Second Son vs. Titanfall: Launch Eve...        t           1\n",
       "1098   Origin May Ban Early Titanfall Players After All        t           1\n",
       "\n",
       "[1099 rows x 3 columns]"
      ]
     },
     "execution_count": 32,
     "metadata": {},
     "output_type": "execute_result"
    }
   ],
   "source": [
    "#train_df.columns = ['label', 'text']\n",
    "df"
   ]
  },
  {
   "cell_type": "code",
   "execution_count": 33,
   "metadata": {},
   "outputs": [],
   "source": [
    "#train_df = train_df[['text', 'label']]\n",
    "train_size = 0.8\n",
    "train_dataset=df.sample(frac=train_size,random_state=200)"
   ]
  },
  {
   "cell_type": "code",
   "execution_count": 34,
   "metadata": {},
   "outputs": [],
   "source": [
    "#train_df['text'] = train_df['text'].apply(lambda x: x.replace('\\\\', ' '))\n",
    "test_dataset=df.drop(train_dataset.index).reset_index(drop=True)"
   ]
  },
  {
   "cell_type": "code",
   "execution_count": 35,
   "metadata": {},
   "outputs": [
    {
     "name": "stdout",
     "output_type": "stream",
     "text": [
      "FULL Dataset: (1099, 3)\n",
      "TRAIN Dataset: (879, 3)\n",
      "TEST Dataset: (220, 3)\n"
     ]
    }
   ],
   "source": [
    "#train_df['label'] = train_df['label'].apply(lambda x:x-1)\n",
    "print(\"FULL Dataset: {}\".format(df.shape))\n",
    "print(\"TRAIN Dataset: {}\".format(train_dataset.shape))\n",
    "print(\"TEST Dataset: {}\".format(test_dataset.shape))"
   ]
  },
  {
   "cell_type": "code",
   "execution_count": 36,
   "metadata": {},
   "outputs": [],
   "source": [
    "#train_df\n",
    "train_dataset = train_dataset[['TITLE','ENCODE_CAT']]"
   ]
  },
  {
   "cell_type": "code",
   "execution_count": 37,
   "metadata": {},
   "outputs": [],
   "source": [
    "# eval_df = pd.read_csv('data/test.csv', header=None)\n",
    "# eval_df['text'] = eval_df.iloc[:, 1] + \" \" + eval_df.iloc[:, 2]\n",
    "# eval_df = eval_df.drop(eval_df.columns[[1, 2]], axis=1)\n",
    "# eval_df.columns = ['label', 'text']\n",
    "# eval_df = eval_df[['text', 'label']]\n",
    "# eval_df['text'] = eval_df['text'].apply(lambda x: x.replace('\\\\', ' '))\n",
    "# eval_df['label'] = eval_df['label'].apply(lambda x:x-1)\n",
    "test_dataset = test_dataset[['TITLE','ENCODE_CAT']]"
   ]
  },
  {
   "cell_type": "code",
   "execution_count": 38,
   "metadata": {},
   "outputs": [],
   "source": [
    "from simpletransformers.classification import ClassificationModel\n"
   ]
  },
  {
   "cell_type": "code",
   "execution_count": 46,
   "metadata": {},
   "outputs": [
    {
     "name": "stderr",
     "output_type": "stream",
     "text": [
      "Some weights of the model checkpoint at distilbert-base-uncased were not used when initializing DistilBertForSequenceClassification: ['vocab_projector.weight', 'vocab_layer_norm.bias', 'vocab_transform.weight', 'vocab_layer_norm.weight', 'vocab_projector.bias', 'vocab_transform.bias']\n",
      "- This IS expected if you are initializing DistilBertForSequenceClassification from the checkpoint of a model trained on another task or with another architecture (e.g. initializing a BertForSequenceClassification model from a BertForPreTraining model).\n",
      "- This IS NOT expected if you are initializing DistilBertForSequenceClassification from the checkpoint of a model that you expect to be exactly identical (initializing a BertForSequenceClassification model from a BertForSequenceClassification model).\n",
      "Some weights of DistilBertForSequenceClassification were not initialized from the model checkpoint at distilbert-base-uncased and are newly initialized: ['pre_classifier.bias', 'classifier.bias', 'pre_classifier.weight', 'classifier.weight']\n",
      "You should probably TRAIN this model on a down-stream task to be able to use it for predictions and inference.\n"
     ]
    }
   ],
   "source": [
    "model = ClassificationModel('distilbert', 'distilbert-base-uncased', args={'overwrite_output_dir':True}, use_cuda=False, num_labels=4)\n"
   ]
  },
  {
   "cell_type": "code",
   "execution_count": 47,
   "metadata": {},
   "outputs": [
    {
     "name": "stderr",
     "output_type": "stream",
     "text": [
      "/usr/local/lib/python3.10/site-packages/simpletransformers/classification/classification_model.py:612: UserWarning: Dataframe headers not specified. Falling back to using column 0 as text and column 1 as labels.\n",
      "  warnings.warn(\n",
      "  0%|          | 0/879 [00:00<?, ?it/s]2022-11-16 15:06:47.455788: I tensorflow/core/platform/cpu_feature_guard.cc:193] This TensorFlow binary is optimized with oneAPI Deep Neural Network Library (oneDNN) to use the following CPU instructions in performance-critical operations:  AVX2 FMA\n",
      "To enable them in other operations, rebuild TensorFlow with the appropriate compiler flags.\n",
      "2022-11-16 15:06:47.456350: I tensorflow/core/platform/cpu_feature_guard.cc:193] This TensorFlow binary is optimized with oneAPI Deep Neural Network Library (oneDNN) to use the following CPU instructions in performance-critical operations:  AVX2 FMA\n",
      "To enable them in other operations, rebuild TensorFlow with the appropriate compiler flags.\n"
     ]
    },
    {
     "name": "stdout",
     "output_type": "stream",
     "text": [
      "huggingface/tokenizers: The current process just got forked, after parallelism has already been used. Disabling parallelism to avoid deadlocks...\n",
      "To disable this warning, you can either:\n",
      "\t- Avoid using `tokenizers` before the fork if possible\n",
      "\t- Explicitly set the environment variable TOKENIZERS_PARALLELISM=(true | false)\n",
      "huggingface/tokenizers: The current process just got forked, after parallelism has already been used. Disabling parallelism to avoid deadlocks...\n",
      "To disable this warning, you can either:\n",
      "\t- Avoid using `tokenizers` before the fork if possible\n",
      "\t- Explicitly set the environment variable TOKENIZERS_PARALLELISM=(true | false)\n"
     ]
    },
    {
     "name": "stderr",
     "output_type": "stream",
     "text": [
      "  0%|          | 2/879 [01:03<7:44:45, 31.80s/it] \n",
      "Epochs 0/1. Running Loss:    0.6466: 100%|██████████| 110/110 [10:14<00:00,  5.58s/it]\n",
      "Epoch 1 of 1: 100%|██████████| 1/1 [10:18<00:00, 618.81s/it]\n"
     ]
    },
    {
     "data": {
      "text/plain": [
       "(110, 0.5262718360532413)"
      ]
     },
     "execution_count": 47,
     "metadata": {},
     "output_type": "execute_result"
    }
   ],
   "source": [
    "model.train_model(train_dataset)"
   ]
  },
  {
   "cell_type": "code",
   "execution_count": null,
   "metadata": {},
   "outputs": [],
   "source": [
    "from sklearn.metrics import f1_score, accuracy_score\n",
    "\n",
    "\n",
    "def f1_multiclass(labels, preds):\n",
    "    return f1_score(labels, preds, average='micro')\n",
    "    "
   ]
  },
  {
   "cell_type": "code",
   "execution_count": null,
   "metadata": {},
   "outputs": [
    {
     "name": "stderr",
     "output_type": "stream",
     "text": [
      "/usr/local/lib/python3.10/site-packages/simpletransformers/classification/classification_model.py:1454: UserWarning: Dataframe headers not specified. Falling back to using column 0 as text and column 1 as labels.\n",
      "  warnings.warn(\n",
      "  0%|          | 0/220 [00:00<?, ?it/s]2022-11-16 03:31:21.577773: I tensorflow/core/platform/cpu_feature_guard.cc:193] This TensorFlow binary is optimized with oneAPI Deep Neural Network Library (oneDNN) to use the following CPU instructions in performance-critical operations:  AVX2 FMA\n",
      "To enable them in other operations, rebuild TensorFlow with the appropriate compiler flags.\n"
     ]
    },
    {
     "name": "stdout",
     "output_type": "stream",
     "text": [
      "huggingface/tokenizers: The current process just got forked, after parallelism has already been used. Disabling parallelism to avoid deadlocks...\n",
      "To disable this warning, you can either:\n",
      "\t- Avoid using `tokenizers` before the fork if possible\n",
      "\t- Explicitly set the environment variable TOKENIZERS_PARALLELISM=(true | false)\n"
     ]
    },
    {
     "name": "stderr",
     "output_type": "stream",
     "text": [
      "  0%|          | 1/220 [00:31<1:53:59, 31.23s/it]\n",
      "Running Evaluation: 100%|██████████| 28/28 [00:25<00:00,  1.08it/s]\n"
     ]
    }
   ],
   "source": [
    "result, model_outputs, wrong_predictions = model.eval_model(test_dataset, f1=f1_multiclass, acc=accuracy_score)"
   ]
  },
  {
   "cell_type": "code",
   "execution_count": null,
   "metadata": {},
   "outputs": [
    {
     "data": {
      "text/plain": [
       "{'mcc': 0.0,\n",
       " 'f1': 0.8954545454545455,\n",
       " 'acc': 0.8954545454545455,\n",
       " 'eval_loss': 0.30470552747803076}"
      ]
     },
     "execution_count": 20,
     "metadata": {},
     "output_type": "execute_result"
    }
   ],
   "source": [
    "result"
   ]
  },
  {
   "cell_type": "code",
   "execution_count": null,
   "metadata": {},
   "outputs": [
    {
     "data": {
      "text/plain": [
       "array([[ 2.99142218e+00,  3.41591299e-01, -2.35672784e+00,\n",
       "        -2.14168859e+00],\n",
       "       [ 2.85016870e+00,  6.41761005e-01, -2.31629276e+00,\n",
       "        -2.22711658e+00],\n",
       "       [ 3.08885622e+00,  6.93988204e-02, -2.19317818e+00,\n",
       "        -2.03435731e+00],\n",
       "       [ 2.38172030e+00,  1.04416490e+00, -2.27251220e+00,\n",
       "        -2.16002512e+00],\n",
       "       [ 2.60644531e+00,  9.56777573e-01, -2.38703537e+00,\n",
       "        -2.22655368e+00],\n",
       "       [ 2.32081795e+00,  1.06330013e+00, -2.27044010e+00,\n",
       "        -2.14715695e+00],\n",
       "       [ 2.47914362e+00,  1.00309849e+00, -2.33419728e+00,\n",
       "        -2.19582129e+00],\n",
       "       [ 3.01877141e+00,  1.23470731e-01, -2.23166037e+00,\n",
       "        -2.07933712e+00],\n",
       "       [ 3.02130938e+00,  4.36623782e-01, -2.36105680e+00,\n",
       "        -2.18987036e+00],\n",
       "       [ 2.91967249e+00,  1.91520303e-01, -2.13052559e+00,\n",
       "        -1.94655395e+00],\n",
       "       [ 2.27261281e+00,  1.08818901e+00, -2.24918914e+00,\n",
       "        -2.14997554e+00],\n",
       "       [ 3.06454134e+00,  6.94136471e-02, -2.25878501e+00,\n",
       "        -2.00098372e+00],\n",
       "       [ 3.01853347e+00,  4.00524616e-01, -2.38364172e+00,\n",
       "        -2.10372901e+00],\n",
       "       [ 2.81727171e+00,  7.27103472e-01, -2.38525701e+00,\n",
       "        -2.20439363e+00],\n",
       "       [ 3.03001904e+00,  1.39700711e-01, -2.20475578e+00,\n",
       "        -2.03994417e+00],\n",
       "       [ 3.05742812e+00,  1.60260320e-01, -2.25019860e+00,\n",
       "        -2.08650255e+00],\n",
       "       [ 3.02487254e+00,  1.11825839e-01, -2.21135187e+00,\n",
       "        -2.06646538e+00],\n",
       "       [ 3.01752996e+00,  1.44475147e-01, -2.22943282e+00,\n",
       "        -2.08870363e+00],\n",
       "       [ 2.95373964e+00,  6.26938403e-01, -2.41113019e+00,\n",
       "        -2.25079775e+00],\n",
       "       [ 2.49437094e+00,  1.05351686e+00, -2.33965850e+00,\n",
       "        -2.22300291e+00],\n",
       "       [ 2.55885243e+00,  6.48922861e-01, -2.27674723e+00,\n",
       "        -2.05393362e+00],\n",
       "       [ 3.05017352e+00,  4.59247619e-01, -2.34921527e+00,\n",
       "        -2.22223234e+00],\n",
       "       [ 2.78951049e+00,  7.53866911e-01, -2.35052872e+00,\n",
       "        -2.24058223e+00],\n",
       "       [ 2.96538639e+00,  5.92066646e-01, -2.40074396e+00,\n",
       "        -2.26063490e+00],\n",
       "       [ 3.08646512e+00,  2.05632225e-01, -2.25809884e+00,\n",
       "        -2.11798406e+00],\n",
       "       [ 2.56290102e+00,  8.83992016e-01, -2.29878521e+00,\n",
       "        -2.19024038e+00],\n",
       "       [ 3.11689758e+00,  2.63279200e-01, -2.34358621e+00,\n",
       "        -2.15995312e+00],\n",
       "       [ 2.93720198e+00,  3.73496920e-01, -2.31356740e+00,\n",
       "        -2.21524286e+00],\n",
       "       [ 2.55665374e+00,  1.01010191e+00, -2.37688160e+00,\n",
       "        -2.22606516e+00],\n",
       "       [ 2.57772160e+00,  9.55629408e-01, -2.38441563e+00,\n",
       "        -2.22150660e+00],\n",
       "       [ 3.05856466e+00,  4.24931169e-01, -2.36990762e+00,\n",
       "        -2.18179727e+00],\n",
       "       [ 3.09455061e+00,  3.56231183e-02, -2.17087960e+00,\n",
       "        -1.99968195e+00],\n",
       "       [ 2.15048981e+00,  1.14276743e+00, -2.19308400e+00,\n",
       "        -2.11615586e+00],\n",
       "       [ 2.22679162e+00,  1.12340319e+00, -2.21862936e+00,\n",
       "        -2.12251019e+00],\n",
       "       [ 2.26186180e+00,  1.11675858e+00, -2.24103999e+00,\n",
       "        -2.13480759e+00],\n",
       "       [ 2.74222946e+00,  8.83051693e-01, -2.42223597e+00,\n",
       "        -2.23992181e+00],\n",
       "       [ 2.57772160e+00,  9.55629408e-01, -2.38441563e+00,\n",
       "        -2.22150660e+00],\n",
       "       [ 2.64115238e+00,  9.28229034e-01, -2.39594913e+00,\n",
       "        -2.23969531e+00],\n",
       "       [ 2.56697083e+00,  9.76927042e-01, -2.35794210e+00,\n",
       "        -2.21274281e+00],\n",
       "       [ 2.36453509e+00,  1.05502367e+00, -2.29567218e+00,\n",
       "        -2.15914249e+00],\n",
       "       [ 3.01391864e+00,  1.51914492e-01, -2.23559785e+00,\n",
       "        -2.10619712e+00],\n",
       "       [ 3.00080919e+00,  2.31193125e-01, -2.28009033e+00,\n",
       "        -2.14521646e+00],\n",
       "       [ 2.80712175e+00, -6.64753467e-02, -1.96816361e+00,\n",
       "        -1.84790587e+00],\n",
       "       [ 2.90086174e+00,  7.39698648e-01, -2.45393443e+00,\n",
       "        -2.26446104e+00],\n",
       "       [ 2.90086174e+00,  7.39698648e-01, -2.45393443e+00,\n",
       "        -2.26446104e+00],\n",
       "       [ 1.85464752e+00,  1.15637887e+00, -1.99264193e+00,\n",
       "        -1.94304740e+00],\n",
       "       [ 3.02414870e+00,  4.66595054e-01, -2.38047194e+00,\n",
       "        -2.22182226e+00],\n",
       "       [ 2.87706161e+00,  7.29112387e-01, -2.44900203e+00,\n",
       "        -2.23675680e+00],\n",
       "       [ 3.05484033e+00,  3.44100237e-01, -2.30069280e+00,\n",
       "        -2.12892747e+00],\n",
       "       [ 3.04963207e+00,  9.41238999e-02, -2.21209288e+00,\n",
       "        -2.00522089e+00],\n",
       "       [ 2.54675174e+00,  9.77170229e-01, -2.37175703e+00,\n",
       "        -2.21944237e+00],\n",
       "       [ 3.05955696e+00,  1.30560338e-01, -2.25088859e+00,\n",
       "        -2.06174016e+00],\n",
       "       [ 3.07399178e+00,  1.14067435e-01, -2.24325156e+00,\n",
       "        -2.05548668e+00],\n",
       "       [ 3.02931523e+00,  9.39204991e-02, -2.21120429e+00,\n",
       "        -2.01294994e+00],\n",
       "       [ 3.11374784e+00,  1.53995872e-01, -2.27018785e+00,\n",
       "        -2.05783892e+00],\n",
       "       [ 3.09185863e+00,  4.22585428e-01, -2.37646103e+00,\n",
       "        -2.19943452e+00],\n",
       "       [ 2.60671806e+00,  9.33434904e-01, -2.39042640e+00,\n",
       "        -2.23532510e+00],\n",
       "       [ 2.57772160e+00,  9.55629408e-01, -2.38441563e+00,\n",
       "        -2.22150660e+00],\n",
       "       [ 3.09066391e+00,  1.02322325e-01, -2.23691344e+00,\n",
       "        -2.07358456e+00],\n",
       "       [ 2.78287077e+00,  7.28551328e-01, -2.33149934e+00,\n",
       "        -2.19790745e+00],\n",
       "       [ 2.81308293e+00,  7.11953402e-01, -2.41529346e+00,\n",
       "        -2.24257946e+00],\n",
       "       [ 2.78499436e+00,  6.92979276e-01, -2.34689498e+00,\n",
       "        -2.22000384e+00],\n",
       "       [ 3.00162816e+00,  2.10649341e-01, -2.26816392e+00,\n",
       "        -2.06664896e+00],\n",
       "       [ 3.08593750e+00,  2.81522125e-01, -2.32916355e+00,\n",
       "        -2.17641282e+00],\n",
       "       [ 3.07852817e+00,  3.50028872e-01, -2.34133339e+00,\n",
       "        -2.15263700e+00],\n",
       "       [ 2.82977676e+00,  7.53199220e-01, -2.42466831e+00,\n",
       "        -2.22436714e+00],\n",
       "       [ 2.31265855e+00,  1.08737230e+00, -2.26124382e+00,\n",
       "        -2.15512466e+00],\n",
       "       [ 3.10163498e+00,  2.92855531e-01, -2.26927543e+00,\n",
       "        -2.08022380e+00],\n",
       "       [ 2.27885246e+00,  1.04958153e+00, -2.20851803e+00,\n",
       "        -2.12978840e+00],\n",
       "       [ 2.55637050e+00,  9.50572789e-01, -2.33542323e+00,\n",
       "        -2.20097828e+00],\n",
       "       [ 2.83240819e+00,  7.14397788e-01, -2.37536573e+00,\n",
       "        -2.23269653e+00],\n",
       "       [ 2.97279239e+00,  4.71031666e-01, -2.32446074e+00,\n",
       "        -2.15542865e+00],\n",
       "       [ 3.06648874e+00,  4.41911519e-01, -2.38334131e+00,\n",
       "        -2.19116545e+00],\n",
       "       [ 3.11587429e+00,  2.71161854e-01, -2.30763435e+00,\n",
       "        -2.12658381e+00],\n",
       "       [ 2.63324738e+00,  8.82579267e-01, -2.36816955e+00,\n",
       "        -2.22904754e+00],\n",
       "       [ 2.37391734e+00,  1.05034411e+00, -2.27998018e+00,\n",
       "        -2.16262412e+00],\n",
       "       [ 3.06587458e+00,  2.55384862e-01, -2.26745605e+00,\n",
       "        -2.07877493e+00],\n",
       "       [ 3.11705399e+00,  3.61476839e-01, -2.38218498e+00,\n",
       "        -2.14482212e+00],\n",
       "       [ 1.96828413e+00,  1.20229423e+00, -2.04860711e+00,\n",
       "        -2.03226423e+00],\n",
       "       [ 2.50246954e+00,  1.01023602e+00, -2.37025928e+00,\n",
       "        -2.21774364e+00],\n",
       "       [ 3.10900712e+00,  1.24184102e-01, -2.26044297e+00,\n",
       "        -2.05110884e+00],\n",
       "       [ 2.33239508e+00,  1.08079696e+00, -2.26642299e+00,\n",
       "        -2.17588472e+00],\n",
       "       [ 2.90580177e+00,  6.72284603e-01, -2.43788505e+00,\n",
       "        -2.20753717e+00],\n",
       "       [ 3.02321172e+00,  1.51598424e-01, -2.22413349e+00,\n",
       "        -1.97856867e+00],\n",
       "       [ 3.08139753e+00,  3.61881435e-01, -2.39687943e+00,\n",
       "        -2.21247506e+00],\n",
       "       [ 2.75809312e+00,  7.16978490e-01, -2.33137608e+00,\n",
       "        -2.15688562e+00],\n",
       "       [ 2.50386667e+00,  1.00664401e+00, -2.34682345e+00,\n",
       "        -2.20435190e+00],\n",
       "       [ 2.57772160e+00,  9.55629408e-01, -2.38441563e+00,\n",
       "        -2.22150683e+00],\n",
       "       [ 2.93984556e+00,  5.94208002e-01, -2.41586185e+00,\n",
       "        -2.23370075e+00],\n",
       "       [ 3.09520936e+00,  3.73234868e-01, -2.40090394e+00,\n",
       "        -2.20682621e+00],\n",
       "       [ 2.38862944e+00,  1.06242752e+00, -2.29732466e+00,\n",
       "        -2.17572069e+00],\n",
       "       [ 3.08253503e+00,  3.89459819e-01, -2.39797926e+00,\n",
       "        -2.22943449e+00],\n",
       "       [ 3.11277771e+00,  2.80584931e-01, -2.34123349e+00,\n",
       "        -2.17107153e+00],\n",
       "       [ 3.13730240e+00,  3.15492570e-01, -2.37903023e+00,\n",
       "        -2.15626955e+00],\n",
       "       [ 2.36065125e+00,  1.05829763e+00, -2.27575970e+00,\n",
       "        -2.16860080e+00],\n",
       "       [ 2.97626185e+00,  9.41363126e-02, -2.16109514e+00,\n",
       "        -1.96667457e+00],\n",
       "       [ 3.07085228e+00,  2.65890718e-01, -2.29141855e+00,\n",
       "        -2.11644936e+00],\n",
       "       [ 3.06161952e+00,  2.20194131e-01, -2.28842664e+00,\n",
       "        -2.09026003e+00],\n",
       "       [ 3.04570341e+00,  2.05010414e-01, -2.28840828e+00,\n",
       "        -2.06970739e+00],\n",
       "       [ 3.09035492e+00,  9.36564133e-02, -2.23388910e+00,\n",
       "        -2.04058361e+00],\n",
       "       [ 3.06701803e+00,  5.20681739e-02, -2.21076012e+00,\n",
       "        -2.04319334e+00],\n",
       "       [ 3.09477425e+00,  1.98178649e-01, -2.27876830e+00,\n",
       "        -2.10213089e+00],\n",
       "       [ 3.04563951e+00, -1.44849718e-02, -2.12635684e+00,\n",
       "        -1.95490634e+00],\n",
       "       [ 2.55155945e+00,  9.74528432e-01, -2.37615061e+00,\n",
       "        -2.21676636e+00],\n",
       "       [ 3.05798745e+00,  4.33322787e-02, -2.20489407e+00,\n",
       "        -2.02787495e+00],\n",
       "       [ 3.01484013e+00,  4.27103221e-01, -2.37355065e+00,\n",
       "        -2.20370150e+00],\n",
       "       [ 2.94524527e+00, -6.54939860e-02, -2.08447313e+00,\n",
       "        -1.85715199e+00],\n",
       "       [ 3.05209756e+00, -1.09569728e-03, -2.17545009e+00,\n",
       "        -1.98342967e+00],\n",
       "       [ 2.99843884e+00,  2.66758353e-02, -2.19368839e+00,\n",
       "        -1.96559072e+00],\n",
       "       [ 2.37667346e+00,  9.98161256e-01, -2.26603222e+00,\n",
       "        -2.15353775e+00],\n",
       "       [ 3.13454461e+00,  1.85278326e-01, -2.32595038e+00,\n",
       "        -2.11469984e+00],\n",
       "       [ 3.05359650e+00,  1.40603691e-01, -2.26416683e+00,\n",
       "        -2.00482774e+00],\n",
       "       [ 3.06248808e+00,  1.04330659e-01, -2.24087977e+00,\n",
       "        -2.07315445e+00],\n",
       "       [ 2.96485591e+00, -2.97027230e-02, -2.14046097e+00,\n",
       "        -1.93730736e+00],\n",
       "       [ 2.51550245e+00,  9.85606253e-01, -2.35630512e+00,\n",
       "        -2.20256615e+00],\n",
       "       [ 3.07703233e+00,  4.42474484e-02, -2.21431875e+00,\n",
       "        -1.99928784e+00],\n",
       "       [ 2.75633430e+00,  8.20156753e-01, -2.42561626e+00,\n",
       "        -2.23375821e+00],\n",
       "       [ 3.01228309e+00,  5.55279434e-01, -2.40666199e+00,\n",
       "        -2.21092463e+00],\n",
       "       [ 2.52955317e+00,  9.70131874e-01, -2.35274434e+00,\n",
       "        -2.19921398e+00],\n",
       "       [ 2.69551921e+00,  8.66250992e-01, -2.40750575e+00,\n",
       "        -2.24332237e+00],\n",
       "       [ 3.10563612e+00,  1.83344722e-01, -2.29226494e+00,\n",
       "        -2.10031104e+00],\n",
       "       [ 3.15043545e+00,  1.77423149e-01, -2.28080440e+00,\n",
       "        -2.12063837e+00],\n",
       "       [ 3.11343670e+00,  7.18863606e-02, -2.23130298e+00,\n",
       "        -2.03648925e+00],\n",
       "       [ 2.60433030e+00,  9.64860380e-01, -2.39544296e+00,\n",
       "        -2.23513746e+00],\n",
       "       [ 2.48992062e+00,  1.03279233e+00, -2.34785604e+00,\n",
       "        -2.20874023e+00],\n",
       "       [ 2.47967029e+00,  1.00919247e+00, -2.35319138e+00,\n",
       "        -2.20297337e+00],\n",
       "       [ 2.52445936e+00,  1.02323139e+00, -2.36572957e+00,\n",
       "        -2.21397495e+00],\n",
       "       [ 2.71649265e+00,  8.37253630e-01, -2.41516161e+00,\n",
       "        -2.24685884e+00],\n",
       "       [ 2.72977757e+00,  8.34905922e-01, -2.42055058e+00,\n",
       "        -2.22981548e+00],\n",
       "       [ 2.20062900e+00,  1.15032697e+00, -2.22264910e+00,\n",
       "        -2.11550760e+00],\n",
       "       [ 3.10246277e+00,  9.61726531e-02, -2.23877525e+00,\n",
       "        -2.04984450e+00],\n",
       "       [ 2.98481107e+00,  3.06795776e-01, -2.29811716e+00,\n",
       "        -2.13780928e+00],\n",
       "       [ 2.50944948e+00,  9.26511049e-01, -2.30708694e+00,\n",
       "        -2.20320415e+00],\n",
       "       [ 2.96119189e+00,  6.20294392e-01, -2.41892886e+00,\n",
       "        -2.26749372e+00],\n",
       "       [ 1.99408352e+00,  1.17221427e+00, -2.08114624e+00,\n",
       "        -2.03137946e+00],\n",
       "       [ 2.76592112e+00,  7.81234443e-01, -2.38589811e+00,\n",
       "        -2.23485303e+00],\n",
       "       [ 3.05938148e+00,  4.10391837e-02, -2.20076680e+00,\n",
       "        -2.05885649e+00],\n",
       "       [ 3.03331709e+00,  4.56635207e-02, -2.18579245e+00,\n",
       "        -2.02210569e+00],\n",
       "       [ 3.07852840e+00,  1.41237080e-01, -2.22427273e+00,\n",
       "        -2.10775828e+00],\n",
       "       [ 2.75801897e+00,  7.60862470e-01, -2.39953279e+00,\n",
       "        -2.23654652e+00],\n",
       "       [ 2.16751146e+00,  1.15383148e+00, -2.18655348e+00,\n",
       "        -2.11172223e+00],\n",
       "       [ 3.07497740e+00,  4.05593812e-01, -2.41006184e+00,\n",
       "        -2.22614956e+00],\n",
       "       [ 2.89664292e+00,  5.97916424e-01, -2.32609749e+00,\n",
       "        -2.20703721e+00],\n",
       "       [ 2.45200682e+00,  1.00417781e+00, -2.29624462e+00,\n",
       "        -2.17975926e+00],\n",
       "       [ 2.68825269e+00,  9.41810369e-01, -2.42181253e+00,\n",
       "        -2.24233246e+00],\n",
       "       [ 2.44141555e+00,  1.03899407e+00, -2.31092429e+00,\n",
       "        -2.18735695e+00],\n",
       "       [ 3.11459231e+00,  2.32871428e-01, -2.32406092e+00,\n",
       "        -2.15824342e+00],\n",
       "       [ 2.67194629e+00,  8.76056850e-01, -2.40684152e+00,\n",
       "        -2.22352219e+00],\n",
       "       [ 2.30159020e+00,  1.10283291e+00, -2.25819492e+00,\n",
       "        -2.14941311e+00],\n",
       "       [ 3.12927032e+00,  3.62510443e-01, -2.36411929e+00,\n",
       "        -2.20789766e+00],\n",
       "       [ 3.09906220e+00,  3.15599978e-01, -2.34437180e+00,\n",
       "        -2.20048833e+00],\n",
       "       [ 2.51961517e+00,  9.50658679e-01, -2.29929781e+00,\n",
       "        -2.18974423e+00],\n",
       "       [ 3.03379393e+00,  1.02314353e-03, -2.15169430e+00,\n",
       "        -1.93550324e+00],\n",
       "       [ 3.12590647e+00,  1.45218134e-01, -2.30428267e+00,\n",
       "        -2.14698863e+00],\n",
       "       [ 2.30159020e+00,  1.10283291e+00, -2.25819492e+00,\n",
       "        -2.14941311e+00],\n",
       "       [ 3.12895346e+00,  1.54346913e-01, -2.29989457e+00,\n",
       "        -2.14544439e+00],\n",
       "       [ 2.50685787e+00,  1.01649952e+00, -2.32970309e+00,\n",
       "        -2.22640538e+00],\n",
       "       [ 2.68745041e+00,  8.73720646e-01, -2.39728856e+00,\n",
       "        -2.22989368e+00],\n",
       "       [ 2.61130667e+00,  9.83724833e-01, -2.39812827e+00,\n",
       "        -2.23368931e+00],\n",
       "       [ 2.64729881e+00,  8.21686029e-01, -2.32309246e+00,\n",
       "        -2.20439649e+00],\n",
       "       [ 2.76089835e+00,  7.21949518e-01, -2.36423826e+00,\n",
       "        -2.24358130e+00],\n",
       "       [ 3.08092117e+00,  2.04618543e-01, -2.30561614e+00,\n",
       "        -2.14978337e+00],\n",
       "       [ 2.46579814e+00,  1.05114365e+00, -2.33618593e+00,\n",
       "        -2.19292998e+00],\n",
       "       [ 2.67541671e+00,  8.01766932e-01, -2.33985949e+00,\n",
       "        -2.20505548e+00],\n",
       "       [ 2.53502536e+00,  9.12300348e-01, -2.29787445e+00,\n",
       "        -2.18703866e+00],\n",
       "       [ 3.00230527e+00, -3.15068737e-02, -2.13504505e+00,\n",
       "        -1.96454608e+00],\n",
       "       [ 2.98263311e+00, -3.57370228e-02, -2.14859319e+00,\n",
       "        -1.97582948e+00],\n",
       "       [ 3.09090471e+00,  1.25274658e-01, -2.27045298e+00,\n",
       "        -2.09175324e+00],\n",
       "       [ 3.01204324e+00, -3.42994928e-04, -2.16779566e+00,\n",
       "        -1.96848977e+00],\n",
       "       [ 3.05823493e+00,  1.29627526e-01, -2.26070547e+00,\n",
       "        -2.07138300e+00],\n",
       "       [ 3.04280663e+00,  1.21161126e-01, -2.20403862e+00,\n",
       "        -2.05265331e+00],\n",
       "       [ 2.97551489e+00,  5.63060224e-01, -2.39356112e+00,\n",
       "        -2.24880934e+00],\n",
       "       [ 3.06195164e+00,  4.42674756e-03, -2.14596748e+00,\n",
       "        -2.00357246e+00],\n",
       "       [ 2.46260071e+00,  1.02214658e+00, -2.32933235e+00,\n",
       "        -2.19744110e+00],\n",
       "       [ 3.00678205e+00,  1.42656416e-01, -2.21946788e+00,\n",
       "        -2.03848886e+00],\n",
       "       [ 2.56280708e+00,  9.74060595e-01, -2.34656262e+00,\n",
       "        -2.20601988e+00],\n",
       "       [ 3.05476403e+00,  2.33048826e-01, -2.25196934e+00,\n",
       "        -2.07740402e+00],\n",
       "       [ 3.11501765e+00,  1.81348309e-01, -2.28465414e+00,\n",
       "        -2.09730148e+00],\n",
       "       [ 3.05261374e+00,  4.96342331e-02, -2.18548441e+00,\n",
       "        -1.97793841e+00],\n",
       "       [ 2.19513011e+00,  1.09491920e+00, -2.19129682e+00,\n",
       "        -2.08723640e+00],\n",
       "       [ 3.08293056e+00,  4.11388546e-01, -2.38246751e+00,\n",
       "        -2.19956398e+00],\n",
       "       [ 2.67597890e+00,  8.39667678e-01, -2.37670922e+00,\n",
       "        -2.18327570e+00],\n",
       "       [ 2.98999453e+00,  4.45810139e-01, -2.35498047e+00,\n",
       "        -2.15091991e+00],\n",
       "       [ 3.03239655e+00,  4.02558327e-01, -2.37523890e+00,\n",
       "        -2.16856718e+00],\n",
       "       [ 3.05746269e+00,  1.04771882e-01, -2.22801352e+00,\n",
       "        -2.07898021e+00],\n",
       "       [ 2.26691842e+00,  1.08553004e+00, -2.24509096e+00,\n",
       "        -2.13247657e+00],\n",
       "       [ 2.21587849e+00,  1.01940024e+00, -2.16376281e+00,\n",
       "        -2.08250785e+00],\n",
       "       [ 2.29170346e+00,  1.11232007e+00, -2.25172567e+00,\n",
       "        -2.14819908e+00],\n",
       "       [ 2.14045930e+00,  1.07174325e+00, -2.12986183e+00,\n",
       "        -2.07231951e+00],\n",
       "       [ 2.63679790e+00,  9.31660175e-01, -2.39907455e+00,\n",
       "        -2.23265171e+00],\n",
       "       [ 3.00520325e+00,  4.90399331e-01, -2.36996508e+00,\n",
       "        -2.20080209e+00],\n",
       "       [ 2.85325289e+00, -1.23548232e-01, -2.07075310e+00,\n",
       "        -1.89176655e+00],\n",
       "       [ 3.03579712e+00,  9.91228223e-02, -2.21829557e+00,\n",
       "        -2.03411746e+00],\n",
       "       [ 2.79275036e+00,  8.17563057e-01, -2.42552066e+00,\n",
       "        -2.25101137e+00],\n",
       "       [ 2.58394909e+00,  9.51413155e-01, -2.38532233e+00,\n",
       "        -2.22677135e+00],\n",
       "       [ 2.89362955e+00,  4.23120469e-01, -2.28550053e+00,\n",
       "        -2.07135534e+00],\n",
       "       [ 2.98175526e+00,  2.01459169e-01, -2.27464914e+00,\n",
       "        -2.04211187e+00],\n",
       "       [ 1.41012299e+00,  1.09173238e+00, -1.59778881e+00,\n",
       "        -1.57916093e+00],\n",
       "       [ 2.63939857e+00,  7.54178464e-01, -2.25925851e+00,\n",
       "        -2.12170219e+00],\n",
       "       [ 2.37733650e+00,  1.07427132e+00, -2.28824592e+00,\n",
       "        -2.15663981e+00],\n",
       "       [ 1.79076004e+00,  1.07671452e+00, -1.90924335e+00,\n",
       "        -1.84652495e+00],\n",
       "       [ 1.11933482e+00,  1.09594488e+00, -1.42627192e+00,\n",
       "        -1.46553361e+00],\n",
       "       [ 1.92284441e+00,  1.04384530e+00, -1.93578804e+00,\n",
       "        -1.90772569e+00],\n",
       "       [ 2.48315954e+00,  9.60084617e-01, -2.24573970e+00,\n",
       "        -2.16341329e+00],\n",
       "       [ 2.07380962e+00,  1.04470682e+00, -2.00421071e+00,\n",
       "        -1.94655550e+00],\n",
       "       [ 2.25340652e+00,  1.07102180e+00, -2.20240021e+00,\n",
       "        -2.09409666e+00],\n",
       "       [ 1.91555583e+00,  1.09435511e+00, -1.95856082e+00,\n",
       "        -1.93695664e+00],\n",
       "       [ 2.67194605e+00,  8.76056850e-01, -2.40684128e+00,\n",
       "        -2.22352219e+00],\n",
       "       [ 1.28966081e+00,  1.04644418e+00, -1.48653412e+00,\n",
       "        -1.50574303e+00],\n",
       "       [ 3.07176208e+00,  4.18401718e-01, -2.34911680e+00,\n",
       "        -2.19494486e+00],\n",
       "       [ 2.14906979e+00,  1.12980938e+00, -2.15284300e+00,\n",
       "        -2.07362390e+00],\n",
       "       [ 2.11254382e+00,  1.13490450e+00, -2.14167500e+00,\n",
       "        -2.07262564e+00],\n",
       "       [ 1.19904304e+00,  1.05462575e+00, -1.45472956e+00,\n",
       "        -1.46227300e+00],\n",
       "       [ 1.69455016e+00,  1.03308833e+00, -1.73143053e+00,\n",
       "        -1.76164079e+00],\n",
       "       [ 2.87266707e+00,  7.70357966e-01, -2.37166500e+00,\n",
       "        -2.24163055e+00],\n",
       "       [ 2.53208995e+00,  9.76095676e-01, -2.32641602e+00,\n",
       "        -2.19414902e+00],\n",
       "       [ 2.77165532e+00,  8.51935446e-01, -2.44346046e+00,\n",
       "        -2.25527573e+00],\n",
       "       [ 2.36089110e+00,  1.07967257e+00, -2.28921652e+00,\n",
       "        -2.16977978e+00],\n",
       "       [ 2.47695637e+00,  1.02014768e+00, -2.35381079e+00,\n",
       "        -2.19677877e+00],\n",
       "       [ 2.55537915e+00,  9.58488464e-01, -2.33192730e+00,\n",
       "        -2.20527101e+00]])"
      ]
     },
     "execution_count": 21,
     "metadata": {},
     "output_type": "execute_result"
    }
   ],
   "source": [
    "model_outputs"
   ]
  },
  {
   "cell_type": "code",
   "execution_count": null,
   "metadata": {},
   "outputs": [
    {
     "data": {
      "text/plain": [
       "[{'guid': 197, 'text_a': 'Microsoft Xbox One Titanfall Another Non-1080p Title', 'text_b': None, 'label': 1},\n",
       " {'guid': 198, 'text_a': 'Titanfall review in progress', 'text_b': None, 'label': 1},\n",
       " {'guid': 199, 'text_a': \"Microsoft's Xbox Is on Its Last Life\", 'text_b': None, 'label': 1},\n",
       " {'guid': 200, 'text_a': 'Respawn considering patching 1080p support into Xbox One Titanfall', 'text_b': None, 'label': 1},\n",
       " {'guid': 201, 'text_a': 'Titanfall Xbox One Resolution: Titanfall on Xbox One Resolution is 792p, \"likely  ...', 'text_b': None, 'label': 1},\n",
       " {'guid': 202, 'text_a': 'Titanfall requires day one patch update, early Xbox One players report', 'text_b': None, 'label': 1},\n",
       " {'guid': 203, 'text_a': 'Review: Titanfall breathes new life into the boring FPS genre', 'text_b': None, 'label': 1},\n",
       " {'guid': 204, 'text_a': 'Titanfall review round-up: A heavyweight', 'text_b': None, 'label': 1},\n",
       " {'guid': 205, 'text_a': \"Titanfall's 'Life is Better With a Titan' Trailer Gets an Extended Cut\", 'text_b': None, 'label': 1},\n",
       " {'guid': 206, 'text_a': 'Titanfall: Worthy of the good -- and bad -- hype (review)', 'text_b': None, 'label': 1},\n",
       " {'guid': 207, 'text_a': 'Tips For Playing Titanfall', 'text_b': None, 'label': 1},\n",
       " {'guid': 208, 'text_a': 'Titanfall Will Launch at a 792p Resolution on Xbox One', 'text_b': None, 'label': 1},\n",
       " {'guid': 209, 'text_a': 'Titanfall gives Microsoft and Electronic Arts plenty of sales ammo', 'text_b': None, 'label': 1},\n",
       " {'guid': 210, 'text_a': \"When Does 'Titanfall' Come Out In The UK?\", 'text_b': None, 'label': 1},\n",
       " {'guid': 211, 'text_a': \"Tomorrow's 'Titanfall' Launch Will Be The Most Important Day For Xbox One Yet\", 'text_b': None, 'label': 1},\n",
       " {'guid': 212, 'text_a': 'Titanfall Ships At 792p on Xbox One, Respawn Targeting 1080p or 900  ...', 'text_b': None, 'label': 1},\n",
       " {'guid': 213, 'text_a': 'Titanfall launch: How to preload the game for instant gratification', 'text_b': None, 'label': 1},\n",
       " {'guid': 214, 'text_a': \"A closer look at Titanfall's not-so-secret weapon: Microsoft's cloud\", 'text_b': None, 'label': 1},\n",
       " {'guid': 215, 'text_a': \"Respawn Entertainment's Jon Shiring on Titanfall and using Microsoft's cloud\", 'text_b': None, 'label': 1},\n",
       " {'guid': 216, 'text_a': \"Titanfall to Revive Microsoft's Xbox One Sales\", 'text_b': None, 'label': 1},\n",
       " {'guid': 217, 'text_a': \"Microsoft Hopes 'Titanfall' will Boost Xbox One Sales\", 'text_b': None, 'label': 1},\n",
       " {'guid': 218, 'text_a': 'Do You Want Some More Titanfall Videos?', 'text_b': None, 'label': 1},\n",
       " {'guid': 219, 'text_a': 'The Art of Titanfall review', 'text_b': None, 'label': 1}]"
      ]
     },
     "execution_count": 22,
     "metadata": {},
     "output_type": "execute_result"
    }
   ],
   "source": [
    "wrong_predictions"
   ]
  },
  {
   "cell_type": "code",
   "execution_count": null,
   "metadata": {},
   "outputs": [
    {
     "name": "stderr",
     "output_type": "stream",
     "text": [
      "  0%|          | 0/1 [00:00<?, ?it/s]2022-11-16 03:32:10.713270: I tensorflow/core/platform/cpu_feature_guard.cc:193] This TensorFlow binary is optimized with oneAPI Deep Neural Network Library (oneDNN) to use the following CPU instructions in performance-critical operations:  AVX2 FMA\n",
      "To enable them in other operations, rebuild TensorFlow with the appropriate compiler flags.\n"
     ]
    },
    {
     "name": "stdout",
     "output_type": "stream",
     "text": [
      "huggingface/tokenizers: The current process just got forked, after parallelism has already been used. Disabling parallelism to avoid deadlocks...\n",
      "To disable this warning, you can either:\n",
      "\t- Avoid using `tokenizers` before the fork if possible\n",
      "\t- Explicitly set the environment variable TOKENIZERS_PARALLELISM=(true | false)\n"
     ]
    },
    {
     "name": "stderr",
     "output_type": "stream",
     "text": [
      "100%|██████████| 1/1 [00:13<00:00, 13.64s/it]\n",
      "100%|██████████| 1/1 [00:00<00:00,  7.25it/s]\n"
     ]
    }
   ],
   "source": [
    "predictions, raw_outputs = model.predict(['Bitcoin enthusiasm weathers chaotic week'])"
   ]
  },
  {
   "cell_type": "code",
   "execution_count": null,
   "metadata": {},
   "outputs": [
    {
     "data": {
      "text/plain": [
       "array([0])"
      ]
     },
     "execution_count": 24,
     "metadata": {},
     "output_type": "execute_result"
    }
   ],
   "source": [
    "predictions"
   ]
  },
  {
   "cell_type": "code",
   "execution_count": null,
   "metadata": {},
   "outputs": [],
   "source": []
  }
 ],
 "metadata": {
  "kernelspec": {
   "display_name": "Python 3.10.6 64-bit",
   "language": "python",
   "name": "python3"
  },
  "language_info": {
   "codemirror_mode": {
    "name": "ipython",
    "version": 3
   },
   "file_extension": ".py",
   "mimetype": "text/x-python",
   "name": "python",
   "nbconvert_exporter": "python",
   "pygments_lexer": "ipython3",
   "version": "3.10.6"
  },
  "orig_nbformat": 4,
  "vscode": {
   "interpreter": {
    "hash": "949777d72b0d2535278d3dc13498b2535136f6dfe0678499012e853ee9abcab1"
   }
  }
 },
 "nbformat": 4,
 "nbformat_minor": 2
}
